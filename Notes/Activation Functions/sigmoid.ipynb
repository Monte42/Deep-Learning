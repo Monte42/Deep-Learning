{
 "cells": [
  {
   "cell_type": "markdown",
   "metadata": {},
   "source": [
    "# Sigmoid Function $\\sigma$\n",
    "---"
   ]
  },
  {
   "cell_type": "markdown",
   "metadata": {},
   "source": [
    "The Sigmoid function play an important role in *Logistic Regreession*.\\\n",
    "Which is a technic for classification where you would expect a binary output\\\n",
    "The Sigmoid function plays the role of an activation function in *Logistic Regression*.\\\n",
    "It takes the weighted sum of the input features and outputs a probability value of the out come.\\"
   ]
  },
  {
   "cell_type": "markdown",
   "metadata": {},
   "source": [
    "#### Lets Look at how a sigmoid function will look on a graph\n",
    "![sigmoid](./img/sigmoid(1).png)\\\n",
    "Here we can see that Sigmoid Function is represented as a \"S\" shaped curve.\\\n",
    "We also notice that with that any value of $x$ the Sigmoid will output a value between 0 and 1."
   ]
  },
  {
   "cell_type": "markdown",
   "metadata": {},
   "source": [
    "#### What does the Sigmoid Function look like?\n",
    "\n",
    "> ### $\\sigma(x)=\\frac{1}{1+e^{-x}}$"
   ]
  },
  {
   "cell_type": "markdown",
   "metadata": {},
   "source": []
  }
 ],
 "metadata": {
  "language_info": {
   "name": "python"
  }
 },
 "nbformat": 4,
 "nbformat_minor": 2
}
