{
 "cells": [
  {
   "cell_type": "markdown",
   "metadata": {},
   "source": [
    "# Sigmoid Function $\\sigma$\n",
    "---"
   ]
  },
  {
   "cell_type": "markdown",
   "metadata": {},
   "source": [
    "The Sigmoid function plays an important role in \n",
    "[*Logistic Regression*.](../Regression_Classifcation/logistic_regression.ipynb)\\\n",
    "Which is a technic for classification where you would expect a binary output\\\n",
    "The Sigmoid function plays the role of an activation function in *Logistic Regression*.\\\n",
    "It takes the weighted sum of the input features and outputs a probability value of the out come.\\"
   ]
  },
  {
   "cell_type": "markdown",
   "metadata": {},
   "source": [
    "#### Lets Look at how a sigmoid function will look on a graph\n",
    "![sigmoid](./img/sigmoid(1).png)\\\n",
    "Here we can see that Sigmoid Function is represented as a \"S\" shaped curve.\\\n",
    "We also notice that with that any value of $x$ the Sigmoid will output a value between 0 and 1."
   ]
  },
  {
   "cell_type": "markdown",
   "metadata": {},
   "source": [
    "#### What does the Sigmoid Function look like?\n",
    "\n",
    "> ### $\\sigma(x)=\\frac{1}{1+e^{-x}}$\n",
    "The Sigmoid Function is denoted by the Greek letter Sigma - $\\sigma$.\\\n",
    "Note when you break it down its rather simple.\\\n",
    "For starters it states $x$ equals a fraction.\\\n",
    "Lets Look at the fraction.\\\n",
    "First its simply 1 over 1, which is 1.\n",
    "So far $x$ equals 1.\n",
    "What makes $x$ a fraction is the final part of the equation."
   ]
  },
  {
   "cell_type": "markdown",
   "metadata": {},
   "source": [
    "> ### $e^{-x}$\n",
    "Lets look at this a little closer.\\\n",
    "Here the $e$ is Euler's constant or 2.718281828459.\\\n",
    "Then we have the exponential of $-x$.\\\n",
    "this is called the inverse of the exponential.\n",
    "> ### $e^{-x}=\\frac{1}{e^{x}}$\n",
    "Lets plot both the exponential and its inverse on a graph.\\\n",
    "![exponential](./img/sigmoid(2).png)\\\n",
    "Here we can see both the exponential and the inverse have the same profile.\\\n",
    "The inverse only oppisite of the y-axis.\\\n",
    "#### So what does this mean?\n",
    "If we study the blue line(inverse), we can see:\n",
    "- the greater the negative the value of $x$ the inverse exponential will diverge to **positive** $\\infty$\n",
    "- the closer the value of $x$ is to 0, the inverse exponential will diverge to 1\n",
    "- the greater the postive the value of $x$ the inverse exponential will diverge to 0\n",
    "#### Lets see some examples of this in our formula\n",
    "$0 > x <= -\\infty$\n",
    "> ### $\\frac{1}{1+e^{-x}}=\\frac{1}{1+\\infty}=0.0$\n",
    "$0 = x$ \n",
    "> ### $\\frac{1}{1+e^{-x}}=\\frac{1}{1+1}=\\frac{1}{2}=0.5$\n",
    "$0 < x >= \\infty$\n",
    "> ### $\\frac{1}{1+e^{-x}}=\\frac{1}{1+0}=\\frac{1}{1}=1.0$\n",
    "Now we can understand where the \"S\" shape curve comes from.\\\n",
    "The Sigmoid function and will take the value of $x$ and return a value between 0 and 1.\n",
    "Some will say because of this the Sigmoid function has a \"sqaushing\" affect"
   ]
  },
  {
   "cell_type": "markdown",
   "metadata": {},
   "source": [
    "## Making Predictions\n",
    "![Predictions](./img/sigmoid(3).png)\\\n",
    "Here we can see an example on the left of our formula for the $\\sum$ of Weight+Feature, yeilding values outside 0 and 1, both positive and negative.\\\n",
    "On the right we pass this formula into the Sigmoid Funcation and it converts that value to a value between 0 and 1.\\\n",
    "This new value is a probablity of this binary decision being \"A\".\n",
    "Following machine learning convention if:\n",
    "- The Probability is greater or equal to 0.5, we assign a value of 1 to the prediction label\n",
    "- The Probability is less than 0.5, we assign a value of 0 to the prediction label"
   ]
  }
 ],
 "metadata": {
  "language_info": {
   "name": "python"
  }
 },
 "nbformat": 4,
 "nbformat_minor": 2
}
