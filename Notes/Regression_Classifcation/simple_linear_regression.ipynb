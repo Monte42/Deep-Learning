{
 "cells": [
  {
   "cell_type": "markdown",
   "metadata": {},
   "source": [
    "# Simple Linear Regression\n",
    "---"
   ]
  },
  {
   "cell_type": "markdown",
   "metadata": {},
   "source": [
    "## What Is Simple Linear Regression?"
   ]
  },
  {
   "cell_type": "markdown",
   "metadata": {},
   "source": [
    " Simple linear regression the equation that produces a trend line that is sloped across the X-Y axes"
   ]
  },
  {
   "cell_type": "markdown",
   "metadata": {},
   "source": [
    "![equation](../img/simple_linear_regression(1).png)"
   ]
  },
  {
   "cell_type": "markdown",
   "metadata": {},
   "source": [
    "**The Depentent Variable ($y$)** is the variable we try to understand in terms of its relations to another variable\\\n",
    "**The Indepentent Variable ($x$)** is the variable the will affect the dependent variable.\\\n",
    "\\\n",
    "For example: How is your understanding of a topic affected by the amount of hours studying?\\\n",
    "Here the hours studied is $x$, and your understanding is $y$.\\\n",
    "The independent variable may not always have an affect on the dependent variable.\\\n",
    "\\\n",
    "**The Coefficent ($b_{1}$)** determins the affect on the independent variable from one unit of change in the dependent variable\\\n",
    "**The Constant ($b_{0}$)** is the point in which the straight line intersects the y-axis"
   ]
  },
  {
   "cell_type": "markdown",
   "metadata": {},
   "source": [
    "![graph_1](./img/simple_linear_regression(2).png)"
   ]
  },
  {
   "cell_type": "markdown",
   "metadata": {},
   "source": [
    "In the example above, a number of player are placed on a chart based on their average \"Points Per Game\" vs the average \"Hours Of Practice\"\\\n",
    "The \"Point Per Game\"($ppg$) is the dependent variable ($y$), while \"Hours Of Practice\"($hop$) is the independent variable ($x_{1}$).\\\n",
    "In this case, the equation would be represented like this:\n",
    "> #### $ppg = b_0 + b_1*hop$\n",
    "In our example, you can see that the constant is 2 points per game. What this means is that when you start off with minimal hours of practice, the expected points for this individual is 2.\\\n",
    "\\\n",
    "So what is the coefficient, then? The coefficent is the slope of our line. This means the steeper the line the bigger the change that happens to the dependent variable($ppg$) with every unit change in the independent variable($hop$).\\\n",
    "\\\n",
    "In this example, $b_{1}$ is the rate of increase in the expected points per game with hour of pracice.\\\n",
    "Using the slope($b_{1}$) and a sinlge unit of measurement for the independent variable, we can derive the change in expected points per game.\\\n",
    "In short the simple regression line is a trend line that best fits the data."
   ]
  },
  {
   "cell_type": "markdown",
   "metadata": {},
   "source": [
    "## How Does The Simple Linear Regression Equation Work?"
   ]
  },
  {
   "cell_type": "markdown",
   "metadata": {},
   "source": [
    "For starters lets take a closer look at a random point from the example above.\n",
    "\n",
    "![Graph2](./img/simple_linear_regression(3).png)"
   ]
  },
  {
   "cell_type": "markdown",
   "metadata": {},
   "source": [
    "Here we have a player who practices x amount of hours per day.\\\n",
    "The blue *trend line* represents the number of points someone who practices that amount of could be expected to make, whereas the red point represents that persons actual average points per game.\\\n",
    "These two point will typically be named as above.\\\n",
    "\\\n",
    "The green line, or the *gap*, is the difference between the observation and our model *trend line*.\\\n",
    "What the system will do is draw a random trend line.\\\n",
    "The next step is to find the distances, or values, of all the *gaps*.\\\n",
    "Next, find the sum of all the *gaps*\n",
    "Square sum, and store that value in memory.\\\n",
    "Adjust the coefficent, or slope for the next tend line..\\\n",
    "The system will do this many times, storing the minimun value of each *trend line*.\\\n",
    "Finally we end by finding the the minimum of all these squared values, or *trend lines*.\n",
    "This is our best fitting line./\n",
    "/\n",
    "Here is formula I explained above on how we can find the best fitting line.\n",
    "> #### $\\sum(y_{i}-\\hat{y}_{i})^2->min$\n",
    "Just to help better understand the above equation: \n",
    "- $\\sum$  is the sum symbol, saying the sum of these values\n",
    "- $_{i}$   represents the itereation on the dataset\n",
    "- $y$   is actual value of the observation\n",
    "- $\\hat{}$   is the hat symbol, which in this case indicates $\\hat{y}$ an estimated value\n"
   ]
  },
  {
   "cell_type": "markdown",
   "metadata": {},
   "source": [
    "# Multiple Linear Regression\n",
    "--- "
   ]
  },
  {
   "cell_type": "markdown",
   "metadata": {},
   "source": [
    "Mulitple linear regression is just like simple linear regression.\\\n",
    "Only instead of having one dependant variable, you could have many.\\\n",
    "For example before we only considered \"Hours Of Practice\".\\\n",
    "Well we can all consider other variables, such as, time played per game, or errors per game.\\\n",
    "The list of variables could be any length.\\\n",
    "## How would this present in our formula?\n",
    "Remeber before, our coefficent and independent variable had iteraters ($b_{1}$ & $x_{1}$).\\\n",
    "Now we just simply ad on the new coefficent and independent variable with the next iteration.\\\n",
    "\\\n",
    "It would present as such:\n",
    "> ### $y=b_{0}+b_{1}*x_{1}+b_{2}*x_{2}+b_{3}*x_{3}+...+b_{n}*x_{n}$"
   ]
  }
 ],
 "metadata": {
  "language_info": {
   "name": "python"
  }
 },
 "nbformat": 4,
 "nbformat_minor": 2
}
