{
 "cells": [
  {
   "cell_type": "markdown",
   "metadata": {},
   "source": [
    "# The Neron\n",
    "---"
   ]
  },
  {
   "cell_type": "markdown",
   "metadata": {},
   "source": [
    "A Neural Network is a large and complex system of connected neurons, or nodes.\\\n",
    "Each neuron will recieve a singnal, or information, and make a computaion.\\\n",
    "The results of that computation would be the output of that neuron.\\\n",
    "This new interpreted information is either passed to the next neuron, or back into the world.\\\n",
    "\\\n",
    "![NN](./img/neural_network.jpg)\\\n",
    "\\\n",
    "Here we can see a bunch of larger bodies conntected by smaller strands.\\\n",
    "These lager bodies are the neurons and the smaller strands are axon'x, or synaps.\\\n",
    "In the instance of an actual brain, there are many parts to a neuron.\\\n",
    "For now in our case we will only need to consider these two components.\\\n",
    "\\\n",
    "![neuron](./img/neuron.jpg)\\\n",
    "\\\n",
    "The neron, or for us node, takes in the information, processes it, then will pass it through the synaps, or connection.\\\n",
    "Every node will have a \"bias\" to it, and every connection will have a weight.\\\n",
    "These values a initiated at rated and then adjusted in training.\\\n",
    "The goal is that the agent will find patterns in the data, and some data points may have more affect on the output than other.\\\n",
    "This allows the agent to adjust these values so more important data points, or features, have more influence on its decision making.\\\n",
    "For instance, when typing, your brain likely values infromation recieved from your eyes and skin more important than your nose.\\\n",
    "So these neurons may get more bias while the synaps will hold more weight.\\\n",
    "\\\n",
    "So how would this look in our case?\\\n",
    "\\\n",
    "![Node](./img/node.jpg)\\\n",
    "\\\n",
    "To start, the yellow circles would be considered the inputs, like a singal from the ears.\\\n",
    "The green cicle is the node, or neuron, and this is where the calculation is done.\\\n",
    "The tail coming from the green circle is the synaps. ( with an activation function, more later)\\\n",
    "Lastly the red circle is the output.\n"
   ]
  },
  {
   "cell_type": "markdown",
   "metadata": {},
   "source": []
  }
 ],
 "metadata": {
  "language_info": {
   "name": "python"
  }
 },
 "nbformat": 4,
 "nbformat_minor": 2
}
