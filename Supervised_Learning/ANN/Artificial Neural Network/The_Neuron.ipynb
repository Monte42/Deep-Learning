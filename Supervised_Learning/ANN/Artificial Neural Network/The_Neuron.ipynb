{
 "cells": [
  {
   "cell_type": "markdown",
   "metadata": {},
   "source": [
    "# The Neron\n",
    "---"
   ]
  },
  {
   "cell_type": "markdown",
   "metadata": {},
   "source": [
    "A Neural Network is a large and complex system of connected neurons, or nodes.\\\n",
    "Each neuron will recieve a singnal, or information, and make a computaion.\\\n",
    "The results of that computation would be the output of that neuron.\\\n",
    "This new interpreted information is either passed to the next neuron, or back into the world.\\\n",
    "\\\n",
    "![NN](./img/neural_network.jpg)\\\n",
    "\\\n",
    "Here we can see a bunch of larger bodies conntected by smaller strands.\\\n",
    "These lager bodies are the neurons and the smaller strands are axon'x, or synaps.\\\n",
    "In the instance of an actual brain, there are many parts to a neuron.\\\n",
    "For now in our case we will only need to consider these two components.\\\n",
    "\\\n",
    "![neuron](./img/neuron.jpg)\\\n",
    "\\\n",
    "The neron, or for us node, takes in the information, processes it, then will pass it through the synaps, or connection.\\\n",
    "Every node will have a \"bias\" to it, and every connection will have a weight.\\\n",
    "These values a initiated at rated and then adjusted in training.\\\n",
    "The goal is that the agent will find patterns in the data, and some data points may have more affect on the output than other.\\\n",
    "This allows the agent to adjust these values so more important data points, or features, have more influence on its decision making.\\\n",
    "For instance, when typing, your brain likely values infromation recieved from your eyes and skin more important than your nose.\\\n",
    "So these neurons may get more bias while the synaps will hold more weight.\\\n",
    "\\\n",
    "So how would this look in our case?\\\n",
    "\\\n",
    "![Node](./img/node.jpg)\\\n",
    "\\\n",
    "To start, the yellow circles would be considered the inputs, like a singal from the ears.\\\n",
    "The green cicle is the node, or neuron, and this is where the calculation is done.\\\n",
    "The tail coming from the green circle is the synaps. ( with an activation function, more later)\\\n",
    "Lastly the red circle is the output.\\\n",
    "\\\n",
    "Lets step through this left to right.\\\n",
    "Our yellow layer, or **Input Layer**, is all the data for a single obsevation, or a single row from our dataset.\\\n",
    "Each of the yellow circles, or featurs, would be a single datapoint, or column, of an observation.\\\n",
    "So, for now we will pass a single row(observation) to the model, and the input layer needs a node for column(feature).\\\n",
    "\\\n",
    "Next is the connection from the input to the nueron.\\\n",
    "Each of these will have a weigth assigned to them, ad while training they will be adjusted.\\\n",
    "While training, if an agent notices one feature has more influence on making the correct choice,\\\n",
    "the agent may increase or decrease the weight of that feature.\\\n",
    "\\\n",
    "Now we are at the neuron, or the node, or the **Hidden Layer**.\\\n",
    "In practice there will be multiple nodes in a hidden layer and multiple hidden layers.\\\n",
    "Here, all the vaules passed to the node will be computated and have a bias applied to it.\\\n",
    "Like the weights before, the bias will set but the agent.\\\n",
    "This will then be passed to synaps, where we will apply what is called an activation fuction.\\\n",
    "For simpilicity, just think of it as applying the activation function to the layer itself.\\\n",
    "\\\n",
    "There are many different types of activation functions.\\\n",
    "These will alter the data in different ways.\\\n",
    "Depending the architecture of the network and the type of output you need, will determine the activation function needed.\\\n",
    "\\\n",
    "The red circle is the models **Output Layer**, this is what is returned from the model.\n",
    "Not all outputs from a learning model need to be singular.\\\n",
    "In fact there are three basic types of outputs:\n",
    " - Continuous ~ like predicting a price\n",
    " - Binary ~ yes/no or true/false\n",
    " - Categorical ~ three or more options\n"
   ]
  }
 ],
 "metadata": {
  "language_info": {
   "name": "python"
  }
 },
 "nbformat": 4,
 "nbformat_minor": 2
}
