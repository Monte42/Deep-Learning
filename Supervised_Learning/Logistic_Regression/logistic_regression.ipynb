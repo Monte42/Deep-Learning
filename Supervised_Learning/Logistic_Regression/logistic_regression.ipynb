{
 "cells": [
  {
   "cell_type": "markdown",
   "metadata": {},
   "source": [
    "# Logistic Regression\n",
    "---\n",
    "For an in depth explanation of data preprocessing, please review [Data Preprocessing](../../Data_Preprocessing/data_preprocessing.ipynb)"
   ]
  },
  {
   "cell_type": "markdown",
   "metadata": {},
   "source": [
    "## Import Libraries"
   ]
  },
  {
   "cell_type": "code",
   "execution_count": 114,
   "metadata": {},
   "outputs": [],
   "source": [
    "import numpy as np\n",
    "import matplotlib.pyplot as plt\n",
    "import pandas as pd\n",
    "from sklearn.impute import SimpleImputer\n",
    "from sklearn.compose import ColumnTransformer\n",
    "from sklearn.preprocessing import OneHotEncoder, LabelEncoder, StandardScaler\n",
    "from sklearn.model_selection import train_test_split"
   ]
  },
  {
   "cell_type": "markdown",
   "metadata": {},
   "source": [
    "## Import Dataset"
   ]
  },
  {
   "cell_type": "code",
   "execution_count": 115,
   "metadata": {},
   "outputs": [
    {
     "name": "stdout",
     "output_type": "stream",
     "text": [
      "RowNumber                  1\n",
      "CustomerId          15634602\n",
      "Surname             Hargrave\n",
      "CreditScore              619\n",
      "Geography             France\n",
      "Gender                Female\n",
      "Age                       42\n",
      "Tenure                     2\n",
      "Balance                  0.0\n",
      "NumOfProducts              1\n",
      "HasCrCard                  1\n",
      "IsActiveMember             1\n",
      "EstimatedSalary    101348.88\n",
      "Exited                     1\n",
      "Name: 0, dtype: object\n"
     ]
    }
   ],
   "source": [
    "dataset = pd.read_csv('../ANN/dataset.csv')\n",
    "print(dataset.loc[0])"
   ]
  },
  {
   "cell_type": "code",
   "execution_count": 116,
   "metadata": {},
   "outputs": [
    {
     "name": "stdout",
     "output_type": "stream",
     "text": [
      "X\n",
      "[[619 'France' 'Female' 42 2 0.0 1 1 1 101348.88]\n",
      " [608 'Spain' 'Female' 41 1 83807.86 1 0 1 112542.58]\n",
      " [502 'France' 'Female' 42 8 159660.8 3 1 0 113931.57]\n",
      " [699 'France' 'Female' 39 1 0.0 2 0 0 93826.63]\n",
      " [850 'Spain' 'Female' 43 2 125510.82 1 1 1 79084.1]]\n",
      "Y\n",
      "[1 0 1 0 0]\n"
     ]
    }
   ],
   "source": [
    "x = dataset.iloc[:,3:-1].values\n",
    "y = dataset.iloc[:,-1].values\n",
    "print(f'X\\n{x[0:5]}')\n",
    "print(f'Y\\n{y[0:5]}')"
   ]
  },
  {
   "cell_type": "markdown",
   "metadata": {},
   "source": [
    "## Encode The Dataset"
   ]
  },
  {
   "cell_type": "code",
   "execution_count": 117,
   "metadata": {},
   "outputs": [
    {
     "name": "stdout",
     "output_type": "stream",
     "text": [
      "[[1.0 0.0 0.0 619 0 42 2 0.0 1 1 1 101348.88]\n",
      " [1.0 0.0 0.0 502 0 42 8 159660.8 3 1 0 113931.57]\n",
      " [0.0 0.0 1.0 850 0 43 2 125510.82 1 1 1 79084.1]\n",
      " [1.0 0.0 0.0 822 1 50 7 0.0 2 1 1 10062.8]\n",
      " [1.0 0.0 0.0 501 1 44 4 142051.07 2 0 1 74940.5]\n",
      " [1.0 0.0 0.0 528 1 31 6 102016.72 2 0 0 80181.12]]\n"
     ]
    }
   ],
   "source": [
    "le = LabelEncoder()\n",
    "x[:,2] = le.fit_transform(x[:,2])\n",
    "\n",
    "ct = ColumnTransformer(transformers=[('encoder',OneHotEncoder(), [1])], remainder='passthrough')\n",
    "x = np.array(ct.fit_transform(x))\n",
    "\n",
    "print(x[0:12:2])"
   ]
  },
  {
   "cell_type": "markdown",
   "metadata": {},
   "source": [
    "## Split Data Set"
   ]
  },
  {
   "cell_type": "code",
   "execution_count": 118,
   "metadata": {},
   "outputs": [
    {
     "name": "stdout",
     "output_type": "stream",
     "text": [
      "X Train:\n",
      "[0.0 0.0 1.0 588 1 32 3 109109.33 1 0 1 4993.94]\n",
      "Y Train:\n",
      "0\n",
      "X Test:\n",
      "[1.0 0.0 0.0 785 0 38 1 0.0 1 1 0 134964.85]\n",
      "Y Test:\n",
      "1\n"
     ]
    }
   ],
   "source": [
    "x_train, x_test, y_train, y_test = train_test_split(x,y,test_size=.02)\n",
    "print(f\"X Train:\\n{x_train[0]}\")\n",
    "print(f\"Y Train:\\n{y_train[0]}\")\n",
    "print(f\"X Test:\\n{x_test[0]}\")\n",
    "print(f\"Y Test:\\n{y_test[0]}\")"
   ]
  },
  {
   "cell_type": "markdown",
   "metadata": {},
   "source": [
    "## Feature Scaling"
   ]
  },
  {
   "cell_type": "code",
   "execution_count": 119,
   "metadata": {},
   "outputs": [
    {
     "name": "stdout",
     "output_type": "stream",
     "text": [
      "Train: [0.0 0.0 1.0 -0.6462814544394493 1 -0.6606168891102312 -0.6985686807706091\n",
      " 0.5193583591438575 1 0 1 -1.6526238647408258]\n",
      "Test: [1.0 0.0 0.0 785 -0.9704367948586523 -0.0796510460250523\n",
      " -1.2682126227771606 -1.0109077246715523 1 1 0 0.6647054897818259]\n"
     ]
    }
   ],
   "source": [
    "sc = StandardScaler()\n",
    "# Scaling only needed cols for Train Set\n",
    "x_train[:,3:4] = sc.fit_transform(x_train[:,3:4])\n",
    "x_train[:,5:8] = sc.fit_transform(x_train[:,5:8])\n",
    "x_train[:,-1:] = sc.fit_transform(x_train[:,-1:])\n",
    "# Scaling only needed cols for Test Set\n",
    "x_test[:,4:5] = sc.fit_transform(x_test[:,4:5])\n",
    "x_test[:,5:8] = sc.fit_transform(x_test[:,5:8])\n",
    "x_test[:,-1:] = sc.fit_transform(x_test[:,-1:])\n",
    "\n",
    "print(f'Train: {x_train[0]}')\n",
    "print(f'Test: {x_test[0]}')"
   ]
  },
  {
   "cell_type": "markdown",
   "metadata": {},
   "source": [
    "## Training The Model"
   ]
  },
  {
   "cell_type": "markdown",
   "metadata": {},
   "source": [
    "## Predict New Result"
   ]
  },
  {
   "cell_type": "markdown",
   "metadata": {},
   "source": [
    "## Predicting The Test Set"
   ]
  },
  {
   "cell_type": "markdown",
   "metadata": {},
   "source": [
    "## Making The Confusion Matrix"
   ]
  },
  {
   "cell_type": "markdown",
   "metadata": {},
   "source": [
    "## Visualize The Test Results"
   ]
  },
  {
   "cell_type": "markdown",
   "metadata": {},
   "source": []
  }
 ],
 "metadata": {
  "kernelspec": {
   "display_name": "base",
   "language": "python",
   "name": "python3"
  },
  "language_info": {
   "codemirror_mode": {
    "name": "ipython",
    "version": 3
   },
   "file_extension": ".py",
   "mimetype": "text/x-python",
   "name": "python",
   "nbconvert_exporter": "python",
   "pygments_lexer": "ipython3",
   "version": "3.11.5"
  }
 },
 "nbformat": 4,
 "nbformat_minor": 2
}
