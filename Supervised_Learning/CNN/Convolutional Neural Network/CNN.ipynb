{
 "cells": [
  {
   "cell_type": "markdown",
   "metadata": {},
   "source": [
    "# Convolutional Nerual Network\n",
    "---"
   ]
  },
  {
   "cell_type": "markdown",
   "metadata": {},
   "source": [
    "## What are Convolutional Neural Networks?\n",
    "A CNN is the type of network used to analyze images, or compter vision.\\\n",
    "The idea of a CNN is to pass it an image, and the CNN will be able to identify features by finding patters.\\\n",
    "Then these features can be used to identify what it is in the image.\\\n",
    "\\\n",
    "Almost the same why the human brain will work.\\\n",
    "When we looking at, we'll say an animal, our brain will analyze the image our eyes send its.\\\n",
    "The brain will start to identifiy key features, such as:\n",
    "- Does it have fur?\n",
    "- Does it have wings?\n",
    "- How many legs does it have?\n",
    "- and so on..\n",
    "\n",
    "After identifing all these features, with a certain level of certainty, we could say, \"That's a dog\", or \"That's a bird\". "
   ]
  },
  {
   "cell_type": "markdown",
   "metadata": {},
   "source": [
    "## How Does A CNN \"See\" An Image?\n",
    "As we already know, computers can not actually see.\\\n",
    "We also know that our models expext matrices cotaining either float or integer values.\\\n",
    "So, how exactly does a computer portray an image?\\\n",
    "\\\n",
    "![cnn](../img/CNN(1).png)\n",
    "\\\n",
    "For simplicty lets imagine a image that is 2x2 pixes, one black an white, one in color.\\\n",
    "The intesity of the shade or color is represented by an integer value 0 - 255.\\\n",
    "\\\n",
    "Lets look at the black and white example.\\\n",
    "Each pixel is a shade of black and white, so only one value is needed to represent the shade.\\\n",
    "\\\n",
    "For the color example, lets think back to art class.\\\n",
    "Colors, are made from a balance of Red, Green, and Blue.\\\n",
    "Think of 0 - 255 as \"parts\" when mixing colors.\\\n",
    "for instance, if we add 171 parts red, 245 parts green, and 255 parts blue, we'll get a very light blue. Color Hex: #abf5ff\\\n",
    "\\\n",
    "The same is true here.  The image is converted into a 3D array where every pixel will have three values tied to it.\\\n",
    "Representing each of the three colors.\\\n",
    "So if the computer wants to know whats in px1, it will combine the px1 values from each of the three arrays."
   ]
  }
 ],
 "metadata": {
  "language_info": {
   "name": "python"
  }
 },
 "nbformat": 4,
 "nbformat_minor": 2
}
